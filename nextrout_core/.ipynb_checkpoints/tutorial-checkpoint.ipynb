{
 "cells": [
  {
   "cell_type": "code",
   "execution_count": 4,
   "metadata": {},
   "outputs": [],
   "source": [
    "import dmk_cont\n",
    "import filtering\n",
    "import pre_extraction"
   ]
  },
  {
   "cell_type": "code",
   "execution_count": 6,
   "metadata": {},
   "outputs": [],
   "source": [
    "fplus=[1,2,3,1]\n",
    "fminus=[4,2,1]\n",
    "\n",
    "xplus=[[0.1,0.2],[0.3,0.4],[0.1,0.7], [0.1,0.9]]\n",
    "xminus=[[0.6,0.2],[0.8,0.4],[0.9,0.5]]\n",
    "\n",
    "Nplus = len(xplus)\n",
    "Nminus = len(xminus)\n",
    "\n",
    "extra_info = {'Nplus':Nplus,\n",
    "               'Nminus':Nminus,\n",
    "                'fplus':fplus,\n",
    "                'fminus':fminus,\n",
    "                'xplus':xplus,\n",
    "                'xminus':xminus}"
   ]
  },
  {
   "cell_type": "code",
   "execution_count": 11,
   "metadata": {},
   "outputs": [],
   "source": [
    "ndiv = 20\n",
    "forcing_flag = 'dirac'\n",
    "beta_c = 1.5\n"
   ]
  },
  {
   "cell_type": "code",
   "execution_count": null,
   "metadata": {},
   "outputs": [],
   "source": [
    "grid, subgrid, points, vertices, coord,topol,element_attributes = dmk_cont.grid_gen(ndiv)\n",
    "forcing, triang_source_indices,triang_sink_indices = dmk_cont.forcing_generator(forcing_flag, grid, coord, topol, extra_info=extra_info)\n",
    "tdpot, timefun = dmk_cont.dmk_cont(forcing,beta_c, ndiv)"
   ]
  },
  {
   "cell_type": "code",
   "execution_count": null,
   "metadata": {},
   "outputs": [],
   "source": [
    "triang = mtri.Triangulation(coord.transpose()[0,:], coord.transpose()[1,:], topol)\n",
    "fig1, ax1 = plt.subplots(figsize=(10, 10))\n",
    "ax1.set_aspect('equal')\n",
    "tpc = ax1.tripcolor(triang, -tdpot.tdens,  cmap='gray')\n",
    "ax1.tricontour(triang, forcing, cmap='RdBu_r')\n",
    "fig1.colorbar(tpc)\n",
    "plt.savefig(storing+'/dmk_sol.png')\n",
    "plt.close()"
   ]
  }
 ],
 "metadata": {
  "kernelspec": {
   "display_name": "Python 3",
   "language": "python",
   "name": "python3"
  },
  "language_info": {
   "codemirror_mode": {
    "name": "ipython",
    "version": 3
   },
   "file_extension": ".py",
   "mimetype": "text/x-python",
   "name": "python",
   "nbconvert_exporter": "python",
   "pygments_lexer": "ipython3",
   "version": "3.6.12"
  }
 },
 "nbformat": 4,
 "nbformat_minor": 4
}

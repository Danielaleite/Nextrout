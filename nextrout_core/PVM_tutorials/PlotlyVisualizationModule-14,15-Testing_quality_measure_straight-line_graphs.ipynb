{
 "cells": [
  {
   "cell_type": "code",
   "execution_count": 2,
   "metadata": {},
   "outputs": [
    {
     "data": {
      "text/html": [
       "        <script type=\"text/javascript\">\n",
       "        window.PlotlyConfig = {MathJaxConfig: 'local'};\n",
       "        if (window.MathJax) {MathJax.Hub.Config({SVG: {font: \"STIX-Web\"}});}\n",
       "        if (typeof require !== 'undefined') {\n",
       "        require.undef(\"plotly\");\n",
       "        requirejs.config({\n",
       "            paths: {\n",
       "                'plotly': ['https://cdn.plot.ly/plotly-latest.min']\n",
       "            }\n",
       "        });\n",
       "        require(['plotly'], function(Plotly) {\n",
       "            window._Plotly = Plotly;\n",
       "        });\n",
       "        }\n",
       "        </script>\n",
       "        "
      ]
     },
     "metadata": {},
     "output_type": "display_data"
    }
   ],
   "source": [
    "import pandas as pd \n",
    "import networkx as nx\n",
    "import itertools\n",
    "from matplotlib.patches import Polygon\n",
    "import operator\n",
    "from matplotlib.collections import PatchCollection\n",
    "import decimal\n",
    "import pickle as pkl\n",
    "import plotly.graph_objects as go\n",
    "import os\n",
    "import chart_studio.plotly as py\n",
    "import plotly.graph_objs as go\n",
    "from plotly.offline import download_plotlyjs, init_notebook_mode, plot,iplot\n",
    "from plotly.subplots import make_subplots\n",
    "init_notebook_mode(connected=True)\n",
    "import numpy as np\n",
    "import sys\n",
    "import matplotlib.pyplot as plt\n",
    "from matplotlib.offsetbox import AnchoredText\n",
    "\n",
    "\n",
    "new_path=os.getcwd()\n",
    "new_path =new_path[:-13]\n",
    "if new_path not in sys.path:\n",
    "    sys.path.append(new_path)\n",
    "#----\n",
    "import continuous2graph\n",
    "import pre_extraction\n",
    "import quality_measure\n",
    "import terminal_computation \n",
    "import filtering\n",
    "import utils\n",
    "#----"
   ]
  },
  {
   "cell_type": "markdown",
   "metadata": {},
   "source": [
    "# PlotlyVisualizationModule 14: *Straight line*."
   ]
  },
  {
   "cell_type": "markdown",
   "metadata": {},
   "source": [
    "### Defining a straight-line image"
   ]
  },
  {
   "cell_type": "code",
   "execution_count": 7,
   "metadata": {},
   "outputs": [],
   "source": [
    "N=10\n",
    "colors = utils.horizontal_line(N)\n",
    "partition_dict, dict_seq, node2box_index = quality_measure.partition_set(N)"
   ]
  },
  {
   "cell_type": "code",
   "execution_count": 12,
   "metadata": {
    "scrolled": false
   },
   "outputs": [
    {
     "data": {
      "text/plain": [
       "<matplotlib.offsetbox.AnchoredText at 0x7f6f04e2df98>"
      ]
     },
     "execution_count": 12,
     "metadata": {},
     "output_type": "execute_result"
    },
    {
     "data": {
      "image/png": "[encoded data removed]",
      "text/plain": [
       "<Figure size 720x720 with 1 Axes>"
      ]
     },
     "metadata": {
      "needs_background": "light"
     },
     "output_type": "display_data"
    }
   ],
   "source": [
    "fig, ax = plt.subplots(1,1,figsize=(10,10))\n",
    "patches = []\n",
    "\n",
    "for key in partition_dict:\n",
    "    square_edges=np.asarray([partition_dict[key][0]]+[partition_dict[key][2]]+[partition_dict[key][3]]+[partition_dict[key][1]]+[partition_dict[key][0]])\n",
    "    #print(square_edges)\n",
    "    #print(len(square_edges))\n",
    "    s1 = Polygon(square_edges)\n",
    "    patches.append(s1)\n",
    "p = PatchCollection(patches, alpha=1,cmap='Wistia',linewidth=.1,edgecolor='b')\n",
    "\n",
    "\n",
    "#colors = np.array(range(M))\n",
    "p.set_array(colors)\n",
    "ax.add_collection(p)\n",
    "\n",
    "#print(len(colors))\n",
    "tdens_dict = {}\n",
    "for key in partition_dict.keys():\n",
    "    #print(key)\n",
    "    tdens_dict[key]=colors[key-1]\n",
    "    \n",
    "at = AnchoredText(\"yellow -> 0 \\norange -> 1\",\n",
    "                  prop=dict(size=20), frameon=True,\n",
    "                  loc='upper left',\n",
    "                  )\n",
    "at.patch.set_boxstyle(\"round,pad=0.,rounding_size=0.3\")\n",
    "ax.add_artist(at)"
   ]
  },
  {
   "cell_type": "markdown",
   "metadata": {},
   "source": [
    "### Extracting the graph"
   ]
  },
  {
   "cell_type": "code",
   "execution_count": 13,
   "metadata": {},
   "outputs": [],
   "source": [
    "G_bar = pre_extraction.weighted_partition2bar_graph(partition_dict, colors)\n",
    "\n",
    "G_pre_extracted = G_bar.copy()\n",
    "#print(G_bar.nodes(data=True))\n",
    "# filtering\n",
    "edges_ = list(G_pre_extracted.edges())\n",
    "G_pre_extracted.remove_edges_from(edges_)\n",
    "# print('getting graph')\n",
    "\n",
    "\n",
    "graph_type = \"1\"\n",
    "\n",
    "\n",
    "G_pre_extracted = pre_extraction.node_edge_filter(G_pre_extracted, \n",
    "                                                  .5,\n",
    "                                                  graph_type, \n",
    "                                                  dict_seq, \n",
    "                                                  'ER',\n",
    "                                                  'image',\n",
    "                                                  node2box_index)  # 12"
   ]
  },
  {
   "cell_type": "markdown",
   "metadata": {},
   "source": [
    "### Showing the weights of the edges in the graph"
   ]
  },
  {
   "cell_type": "code",
   "execution_count": 21,
   "metadata": {},
   "outputs": [
    {
     "name": "stdout",
     "output_type": "stream",
     "text": [
      "(4, 13) weight= 1.5\n",
      "(13, 22) weight= 1.0\n",
      "(22, 31) weight= 1.0\n",
      "(31, 40) weight= 1.0\n",
      "(40, 49) weight= 1.0\n",
      "(49, 58) weight= 1.0\n",
      "(58, 67) weight= 1.0\n",
      "(67, 76) weight= 1.5\n"
     ]
    }
   ],
   "source": [
    "for edge in G_pre_extracted.edges():\n",
    "    print(edge,'weight=',G_pre_extracted.edges[edge]['weight'])"
   ]
  },
  {
   "cell_type": "code",
   "execution_count": 14,
   "metadata": {
    "scrolled": false
   },
   "outputs": [
    {
     "name": "stderr",
     "output_type": "stream",
     "text": [
      "/home/dtheuerkauf/anaconda3/lib/python3.7/site-packages/networkx/drawing/nx_pylab.py:611: MatplotlibDeprecationWarning:\n",
      "\n",
      "isinstance(..., numbers.Number)\n",
      "\n"
     ]
    },
    {
     "data": {
      "text/plain": [
       "<matplotlib.offsetbox.AnchoredText at 0x7f6f04fc82e8>"
      ]
     },
     "execution_count": 14,
     "metadata": {},
     "output_type": "execute_result"
    },
    {
     "data": {
      "image/png": "[encoded data removed]",
      "text/plain": [
       "<Figure size 720x720 with 1 Axes>"
      ]
     },
     "metadata": {
      "needs_background": "light"
     },
     "output_type": "display_data"
    }
   ],
   "source": [
    "fig, ax = plt.subplots(1,1,figsize=(10,10))\n",
    "patches = []\n",
    "for key in partition_dict:\n",
    "    square_edges=np.asarray([partition_dict[key][0]]+[partition_dict[key][2]]+[partition_dict[key][3]]+[partition_dict[key][1]]+[partition_dict[key][0]])\n",
    "    #print(square_edges)\n",
    "    #print(len(square_edges))\n",
    "    s1 = Polygon(square_edges)\n",
    "    patches.append(s1)\n",
    "p = PatchCollection(patches, alpha=1,cmap='Wistia',linewidth=.1,edgecolor='b')\n",
    "\n",
    "#colors = np.array(range(M))\n",
    "p.set_array(colors)\n",
    "ax.add_collection(p)\n",
    "    \n",
    "small_G_pre_extracted=G_pre_extracted.copy()\n",
    "small_G_pre_extracted.remove_nodes_from(list(nx.isolates(G_pre_extracted)))\n",
    "\n",
    "pos=nx.get_node_attributes(small_G_pre_extracted,'pos')\n",
    "nx.draw_networkx(small_G_pre_extracted, pos, node_size=30,width=2,with_labels=False,edge_color='black',alpha=0.8,node_color='black',ax=ax)\n",
    "\n",
    "sign = 1\n",
    "\n",
    "for edge in small_G_pre_extracted.edges():\n",
    "    \n",
    "    x_arrow = .5*small_G_pre_extracted.nodes[edge[0]]['pos'][0] + .5*small_G_pre_extracted.nodes[edge[1]]['pos'][0]\n",
    "    y_arrow = .5*small_G_pre_extracted.nodes[edge[0]]['pos'][1] + .5*small_G_pre_extracted.nodes[edge[1]]['pos'][1]\n",
    "    \n",
    "    sign = sign*(-1)\n",
    "    \n",
    "    x_text = x_arrow - .00000001\n",
    "    y_text = y_arrow +sign*.25\n",
    "    \n",
    "    text = str(small_G_pre_extracted.edges[edge]['weight'])\n",
    "    ax.annotate('w(e)='+text, xy=(x_arrow,y_arrow), xytext=(x_text , y_text),size=15,\n",
    "                arrowprops=dict(facecolor='black', shrink=0.05),\n",
    "                )\n",
    "at = AnchoredText(\"weighing method: ER\",\n",
    "                  prop=dict(size=20), frameon=True,\n",
    "                  loc='upper left',\n",
    "                  )\n",
    "at.patch.set_boxstyle(\"round,pad=0.,rounding_size=0.3\")\n",
    "ax.add_artist(at)"
   ]
  },
  {
   "cell_type": "markdown",
   "metadata": {},
   "source": [
    "### Computing the quality measure of the graph"
   ]
  },
  {
   "cell_type": "code",
   "execution_count": 25,
   "metadata": {},
   "outputs": [
    {
     "name": "stdout",
     "output_type": "stream",
     "text": [
      "\n",
      "      N    | Pre-extracted Graph    |\n",
      "           |       qw   |  L        |\n",
      "  1.00e+01 | 0.012346   | 0.888889  |\n"
     ]
    }
   ],
   "source": [
    "qm={}\n",
    "qm[N]={}\n",
    "\n",
    "print('\\n      N    | Pre-extracted Graph    |')\n",
    "print('           |       qw   |  L        |')\n",
    "\n",
    "q_measure, q_weight, L, triang_weight_vector, weight_difference_vector = quality_measure.q_measure(G_pre_extracted,\n",
    "                                                           G_bar, \n",
    "                                                           partition_dict, \n",
    "                                                           'l1', min_=.5)\n",
    "qm[N]['qw'] = q_weight\n",
    "qm[N]['L'] = L\n",
    "    \n",
    "print(\"%10.2e\"%N,'|',\"%f\"% qm[N]['qw'],'  |',\n",
    "          \"%f \"% qm[N]['L'],'|')"
   ]
  },
  {
   "cell_type": "markdown",
   "metadata": {},
   "source": [
    "# PlotlyVisualizationModule 15: *Quality measure on straight-line graphs*."
   ]
  },
  {
   "cell_type": "markdown",
   "metadata": {},
   "source": [
    "The length converges to 1 and the weighted part to 0."
   ]
  },
  {
   "cell_type": "code",
   "execution_count": 28,
   "metadata": {},
   "outputs": [
    {
     "name": "stdout",
     "output_type": "stream",
     "text": [
      "\n",
      "      N    | Pre-extracted Graph    |\n",
      "           |       qw   |  L        |\n",
      " 3.000e+00 | 0.000000   | 0.500000  |\n",
      " 4.000e+00 | 0.111111   | 0.666667  |\n",
      " 5.000e+00 | 0.062500   | 0.750000  |\n",
      " 6.000e+00 | 0.040000   | 0.800000  |\n",
      " 7.000e+00 | 0.027778   | 0.833333  |\n",
      " 8.000e+00 | 0.020408   | 0.857143  |\n",
      " 9.000e+00 | 0.015625   | 0.875000  |\n",
      " 1.000e+01 | 0.012346   | 0.888889  |\n",
      " 1.100e+01 | 0.010000   | 0.900000  |\n",
      " 1.200e+01 | 0.008264   | 0.909091  |\n",
      " 1.300e+01 | 0.006944   | 0.916667  |\n",
      " 1.400e+01 | 0.005917   | 0.923077  |\n",
      " 1.500e+01 | 0.005102   | 0.928571  |\n",
      " 1.600e+01 | 0.004444   | 0.933333  |\n",
      " 1.700e+01 | 0.003906   | 0.937500  |\n",
      " 1.800e+01 | 0.003460   | 0.941176  |\n",
      " 1.900e+01 | 0.003086   | 0.944444  |\n",
      " 2.000e+01 | 0.002770   | 0.947368  |\n",
      " 2.100e+01 | 0.002500   | 0.950000  |\n",
      " 2.200e+01 | 0.002268   | 0.952381  |\n",
      " 2.300e+01 | 0.002066   | 0.954545  |\n",
      " 2.400e+01 | 0.001890   | 0.956522  |\n",
      " 2.500e+01 | 0.001736   | 0.958333  |\n",
      " 2.600e+01 | 0.001600   | 0.960000  |\n",
      " 2.700e+01 | 0.001479   | 0.961538  |\n",
      " 2.800e+01 | 0.001372   | 0.962963  |\n",
      " 2.900e+01 | 0.001276   | 0.964286  |\n"
     ]
    }
   ],
   "source": [
    "qm={}\n",
    "print('\\n      N    | Pre-extracted Graph    |')\n",
    "print('           |       qw   |  L        |')\n",
    "for N in range(3,30):\n",
    "    \n",
    "    qm[N]={}\n",
    "\n",
    "    \n",
    "    partition_dict, dict_seq, node2box_index = quality_measure.partition_set(N)\n",
    "    _, G_triang = quality_measure.partition(N)\n",
    "    \n",
    "    colors = utils.horizontal_line(N)\n",
    "    \n",
    "    G_bar = pre_extraction.weighted_partition2bar_graph(partition_dict, colors)\n",
    "    \n",
    "    G_pre_extracted = G_bar.copy()\n",
    "    #print(G_bar.nodes(data=True))\n",
    "    # filtering\n",
    "    edges_ = list(G_pre_extracted.edges())\n",
    "    G_pre_extracted.remove_edges_from(edges_)\n",
    "    # print('getting graph')\n",
    "\n",
    "\n",
    "    graph_type = \"1\"\n",
    "\n",
    "\n",
    "    G_pre_extracted = pre_extraction.node_edge_filter(G_pre_extracted, \n",
    "                                                      .5,\n",
    "                                                      graph_type, \n",
    "                                                      dict_seq, \n",
    "                                                      'ER',\n",
    "                                                      'image',\n",
    "                                                      node2box_index)  # 12\n",
    "    \n",
    "    \n",
    "    q_measure, q_weight, L, triang_weight_vector, weight_difference_vector = quality_measure.q_measure(G_pre_extracted,\n",
    "                                                           G_bar, \n",
    "                                                           partition_dict, \n",
    "                                                           'l1', min_=.5)\n",
    "    qm[N]['qw'] = q_weight\n",
    "    qm[N]['L'] = L\n",
    "\n",
    "    print(\"%10.3e\"%N,'|',\"%f\"% qm[N]['qw'],'  |',\n",
    "              \"%f \"% qm[N]['L'],'|')\n",
    "\n"
   ]
  },
  {
   "cell_type": "code",
   "execution_count": 29,
   "metadata": {},
   "outputs": [
    {
     "data": {
      "text/plain": [
       "{3: {'qw': 0.0, 'L': 0.5},\n",
       " 4: {'qw': 0.1111111111111111, 'L': 0.6666666666666666},\n",
       " 5: {'qw': 0.0625, 'L': 0.75},\n",
       " 6: {'qw': 0.04, 'L': 0.8},\n",
       " 7: {'qw': 0.027777777777777776, 'L': 0.8333333333333334},\n",
       " 8: {'qw': 0.02040816326530612, 'L': 0.8571428571428572},\n",
       " 9: {'qw': 0.015625, 'L': 0.875},\n",
       " 10: {'qw': 0.012345679012345678, 'L': 0.8888888888888888},\n",
       " 11: {'qw': 0.01, 'L': 0.8999999999999999},\n",
       " 12: {'qw': 0.008264462809917356, 'L': 0.9090909090909092},\n",
       " 13: {'qw': 0.006944444444444444, 'L': 0.9166666666666666},\n",
       " 14: {'qw': 0.005917159763313609, 'L': 0.9230769230769231},\n",
       " 15: {'qw': 0.00510204081632653, 'L': 0.9285714285714285},\n",
       " 16: {'qw': 0.0044444444444444444, 'L': 0.9333333333333333},\n",
       " 17: {'qw': 0.00390625, 'L': 0.9375},\n",
       " 18: {'qw': 0.0034602076124567475, 'L': 0.9411764705882353},\n",
       " 19: {'qw': 0.0030864197530864196, 'L': 0.9444444444444444},\n",
       " 20: {'qw': 0.002770083102493075, 'L': 0.9473684210526315},\n",
       " 21: {'qw': 0.0025, 'L': 0.9500000000000001},\n",
       " 22: {'qw': 0.0022675736961451248, 'L': 0.9523809523809523},\n",
       " 23: {'qw': 0.002066115702479339, 'L': 0.9545454545454546},\n",
       " 24: {'qw': 0.001890359168241966, 'L': 0.9565217391304348},\n",
       " 25: {'qw': 0.001736111111111111, 'L': 0.9583333333333334},\n",
       " 26: {'qw': 0.0016, 'L': 0.96},\n",
       " 27: {'qw': 0.0014792899408284023, 'L': 0.9615384615384616},\n",
       " 28: {'qw': 0.0013717421124828531, 'L': 0.9629629629629629},\n",
       " 29: {'qw': 0.0012755102040816326, 'L': 0.9642857142857143}}"
      ]
     },
     "execution_count": 29,
     "metadata": {},
     "output_type": "execute_result"
    }
   ],
   "source": [
    "qm"
   ]
  },
  {
   "cell_type": "markdown",
   "metadata": {},
   "source": [
    "#### Saving the results"
   ]
  },
  {
   "cell_type": "code",
   "execution_count": 33,
   "metadata": {},
   "outputs": [],
   "source": [
    "qm_weights = np.array([qm[N]['qw'] for N in qm.keys()])\n",
    "qm_L = np.array([qm[N]['L'] for N in qm.keys()])\n",
    "\n",
    "with open('./qw_3-29.pkl', 'wb') as file:\n",
    "    pkl.dump(qm_weights,file)\n",
    "with open('./L_3-29.pkl', 'wb') as file:\n",
    "    pkl.dump(qm_L,file)"
   ]
  },
  {
   "cell_type": "code",
   "execution_count": null,
   "metadata": {},
   "outputs": [],
   "source": []
  }
 ],
 "metadata": {
  "kernelspec": {
   "display_name": "Python 3",
   "language": "python",
   "name": "python3"
  },
  "language_info": {
   "codemirror_mode": {
    "name": "ipython",
    "version": 3
   },
   "file_extension": ".py",
   "mimetype": "text/x-python",
   "name": "python",
   "nbconvert_exporter": "python",
   "pygments_lexer": "ipython3",
   "version": "3.7.3"
  }
 },
 "nbformat": 4,
 "nbformat_minor": 2
}

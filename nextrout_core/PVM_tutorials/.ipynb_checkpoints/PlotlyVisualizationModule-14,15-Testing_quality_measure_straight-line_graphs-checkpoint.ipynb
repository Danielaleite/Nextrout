{
 "cells": [
  {
   "cell_type": "code",
   "execution_count": 1,
   "metadata": {},
   "outputs": [
    {
     "data": {
      "text/html": [
       "        <script type=\"text/javascript\">\n",
       "        window.PlotlyConfig = {MathJaxConfig: 'local'};\n",
       "        if (window.MathJax) {MathJax.Hub.Config({SVG: {font: \"STIX-Web\"}});}\n",
       "        if (typeof require !== 'undefined') {\n",
       "        require.undef(\"plotly\");\n",
       "        requirejs.config({\n",
       "            paths: {\n",
       "                'plotly': ['https://cdn.plot.ly/plotly-latest.min']\n",
       "            }\n",
       "        });\n",
       "        require(['plotly'], function(Plotly) {\n",
       "            window._Plotly = Plotly;\n",
       "        });\n",
       "        }\n",
       "        </script>\n",
       "        "
      ]
     },
     "metadata": {},
     "output_type": "display_data"
    }
   ],
   "source": [
    "import pandas as pd \n",
    "import networkx as nx\n",
    "import itertools\n",
    "from matplotlib.patches import Polygon\n",
    "import operator\n",
    "from matplotlib.collections import PatchCollection\n",
    "import decimal\n",
    "import pickle as pkl\n",
    "import plotly.graph_objects as go\n",
    "import os\n",
    "import chart_studio.plotly as py\n",
    "import plotly.graph_objs as go\n",
    "from plotly.offline import download_plotlyjs, init_notebook_mode, plot,iplot\n",
    "from plotly.subplots import make_subplots\n",
    "init_notebook_mode(connected=True)\n",
    "import numpy as np\n",
    "import sys\n",
    "import matplotlib.pyplot as plt\n",
    "\n",
    "\n",
    "new_path=os.getcwd()\n",
    "new_path =new_path[:-13]\n",
    "if new_path not in sys.path:\n",
    "    sys.path.append(new_path)\n",
    "#----\n",
    "import continuous2graph\n",
    "import pre_extraction\n",
    "import quality_measure\n",
    "import terminal_computation \n",
    "import filtering\n",
    "import utils\n",
    "#----"
   ]
  },
  {
   "cell_type": "markdown",
   "metadata": {},
   "source": [
    "# PlotlyVisualizationModule 14: *Quality measure on images*."
   ]
  },
  {
   "cell_type": "code",
   "execution_count": 43,
   "metadata": {},
   "outputs": [],
   "source": [
    "def horizontal_line(N):\n",
    "    zero = np.zeros(N-1)\n",
    "    zero[int(len(zero)/2)]=1\n",
    "    assert len(zero) == N-1\n",
    "    colors = (N-1)*list(zero)\n",
    "    return np.array(colors)\n"
   ]
  },
  {
   "cell_type": "code",
   "execution_count": 44,
   "metadata": {},
   "outputs": [],
   "source": [
    "colors = horizontal_line(N)"
   ]
  },
  {
   "cell_type": "code",
   "execution_count": 45,
   "metadata": {
    "scrolled": false
   },
   "outputs": [
    {
     "name": "stdout",
     "output_type": "stream",
     "text": [
      "0 -> yellow\n",
      "1 -> orange\n"
     ]
    },
    {
     "data": {
      "image/png": "[encoded data removed]",
      "text/plain": [
       "<Figure size 720x720 with 1 Axes>"
      ]
     },
     "metadata": {
      "needs_background": "light"
     },
     "output_type": "display_data"
    }
   ],
   "source": [
    "fig, ax = plt.subplots(1,1,figsize=(10,10))\n",
    "patches = []\n",
    "\n",
    "print(0,'-> yellow')# orange\n",
    "print(1,'-> orange')# yellow\n",
    "\n",
    "\n",
    "for key in partition_dict:\n",
    "    square_edges=np.asarray([partition_dict[key][0]]+[partition_dict[key][2]]+[partition_dict[key][3]]+[partition_dict[key][1]]+[partition_dict[key][0]])\n",
    "    #print(square_edges)\n",
    "    #print(len(square_edges))\n",
    "    s1 = Polygon(square_edges)\n",
    "    patches.append(s1)\n",
    "p = PatchCollection(patches, alpha=1,cmap='Wistia',linewidth=.1,edgecolor='b')\n",
    "\n",
    "\n",
    "#colors = np.array(range(M))\n",
    "p.set_array(colors)\n",
    "ax.add_collection(p)\n",
    "\n",
    "#print(len(colors))\n",
    "tdens_dict = {}\n",
    "for key in partition_dict.keys():\n",
    "    #print(key)\n",
    "    tdens_dict[key]=colors[key-1]"
   ]
  },
  {
   "cell_type": "markdown",
   "metadata": {},
   "source": [
    "##### synthetic image as set of dictionaries might be given as input of this function\n",
    "G_bar = nx.Graph()\n",
    "for key in partition_dict.keys():\n",
    "    G_bar.add_node(key - 1)\n",
    "    value = partition_dict[key]\n",
    "    G_bar.nodes[key - 1]['pos'] = np.array(pre_extraction.bar_square(value))\n",
    "    G_bar.nodes[key - 1]['weight'] = 0\n",
    "\n",
    "tdens_dict = {}\n",
    "for key in partition_dict.keys():\n",
    "    ##print(key)\n",
    "    weight = colors[key - 1]\n",
    "    tdens_dict[key] = weight\n",
    "    G_bar.nodes[key - 1]['weight'] = weight"
   ]
  },
  {
   "cell_type": "code",
   "execution_count": 61,
   "metadata": {},
   "outputs": [],
   "source": [
    "#max_=max(color_dict.values())\n",
    "\n",
    "G_pre_extracted = G_bar.copy()\n",
    "#print(G_bar.nodes(data=True))\n",
    "# filtering\n",
    "edges_ = list(G_pre_extracted.edges())\n",
    "G_pre_extracted.remove_edges_from(edges_)\n",
    "# print('getting graph')\n",
    "\n",
    "\n",
    "graph_type = \"1\"\n",
    "\n",
    "\n",
    "G_pre_extracted = pre_extraction.node_edge_filter(G_pre_extracted, \n",
    "                                                  .5,\n",
    "                                                  graph_type, \n",
    "                                                  dict_seq, \n",
    "                                                  'ER',\n",
    "                                                  'image',\n",
    "                                                  node2box_index)  # 12"
   ]
  },
  {
   "cell_type": "code",
   "execution_count": 47,
   "metadata": {},
   "outputs": [],
   "source": [
    "G_bar = pre_extraction.weighted_partition2bar_graph(partition_dict, colors)"
   ]
  },
  {
   "cell_type": "code",
   "execution_count": 63,
   "metadata": {},
   "outputs": [
    {
     "data": {
      "text/plain": [
       "array([0.83333333, 0.5       ])"
      ]
     },
     "execution_count": 63,
     "metadata": {},
     "output_type": "execute_result"
    }
   ],
   "source": [
    "small_G_pre_extracted.nodes[edge[0]]['pos']"
   ]
  },
  {
   "cell_type": "code",
   "execution_count": 91,
   "metadata": {
    "scrolled": false
   },
   "outputs": [
    {
     "data": {
      "text/plain": [
       "<matplotlib.offsetbox.AnchoredText at 0x7fd618e50a90>"
      ]
     },
     "execution_count": 91,
     "metadata": {},
     "output_type": "execute_result"
    },
    {
     "data": {
      "image/png": "[encoded data removed]",
      "text/plain": [
       "<Figure size 720x720 with 1 Axes>"
      ]
     },
     "metadata": {
      "needs_background": "light"
     },
     "output_type": "display_data"
    }
   ],
   "source": [
    "from matplotlib.offsetbox import AnchoredText\n",
    "\n",
    "\n",
    "\n",
    "fig, ax = plt.subplots(1,1,figsize=(10,10))\n",
    "patches = []\n",
    "for key in partition_dict:\n",
    "    square_edges=np.asarray([partition_dict[key][0]]+[partition_dict[key][2]]+[partition_dict[key][3]]+[partition_dict[key][1]]+[partition_dict[key][0]])\n",
    "    #print(square_edges)\n",
    "    #print(len(square_edges))\n",
    "    s1 = Polygon(square_edges)\n",
    "    patches.append(s1)\n",
    "p = PatchCollection(patches, alpha=1,cmap='Wistia',linewidth=.1,edgecolor='b')\n",
    "\n",
    "#colors = np.array(range(M))\n",
    "p.set_array(colors)\n",
    "ax.add_collection(p)\n",
    "    \n",
    "small_G_pre_extracted=G_pre_extracted.copy()\n",
    "small_G_pre_extracted.remove_nodes_from(list(nx.isolates(G_pre_extracted)))\n",
    "\n",
    "pos=nx.get_node_attributes(small_G_pre_extracted,'pos')\n",
    "nx.draw_networkx(small_G_pre_extracted, pos, node_size=30,width=2,with_labels=False,edge_color='black',alpha=0.8,node_color='black',ax=ax)\n",
    "\n",
    "sign = 1\n",
    "\n",
    "for edge in small_G_pre_extracted.edges():\n",
    "    \n",
    "    x_arrow = .5*small_G_pre_extracted.nodes[edge[0]]['pos'][0] + .5*small_G_pre_extracted.nodes[edge[1]]['pos'][0]\n",
    "    y_arrow = .5*small_G_pre_extracted.nodes[edge[0]]['pos'][1] + .5*small_G_pre_extracted.nodes[edge[1]]['pos'][1]\n",
    "    \n",
    "    sign = sign*(-1)\n",
    "    \n",
    "    x_text = x_arrow - .00000001\n",
    "    y_text = y_arrow +sign*.25\n",
    "    \n",
    "    text = str(small_G_pre_extracted.edges[edge]['weight'])\n",
    "    ax.annotate('w(e)='+text, xy=(x_arrow,y_arrow), xytext=(x_text , y_text),size=15,\n",
    "                arrowprops=dict(facecolor='black', shrink=0.05),\n",
    "                )\n",
    "at = AnchoredText(\"weighing method: ER\",\n",
    "                  prop=dict(size=20), frameon=True,\n",
    "                  loc='upper left',\n",
    "                  )\n",
    "at.patch.set_boxstyle(\"round,pad=0.,rounding_size=0.3\")\n",
    "ax.add_artist(at)"
   ]
  },
  {
   "cell_type": "code",
   "execution_count": 74,
   "metadata": {},
   "outputs": [
    {
     "data": {
      "text/plain": [
       "0.1111111111111111"
      ]
     },
     "execution_count": 74,
     "metadata": {},
     "output_type": "execute_result"
    }
   ],
   "source": [
    "x_arrow"
   ]
  },
  {
   "cell_type": "code",
   "execution_count": 18,
   "metadata": {},
   "outputs": [
    {
     "name": "stdout",
     "output_type": "stream",
     "text": [
      "     2e+01 | 0.002500 | 0.950000  |\n"
     ]
    }
   ],
   "source": [
    "qm={}\n",
    "qm[N]={}\n",
    "\n",
    "q_measure, q_weight, L, triang_weight_vector, weight_difference_vector = quality_measure.q_measure(G_pre_extracted,\n",
    "                                                           G_bar, \n",
    "                                                           partition_dict, \n",
    "                                                           'l1', min_=.5)\n",
    "qm[N]['qw'] = q_weight\n",
    "qm[N]['L'] = L\n",
    "    \n",
    "print(\"%10.0e\"%N,'|',\"%f\"% qm[N]['qw'],'|',\n",
    "          \"%f \"% qm[N]['L'],'|')"
   ]
  },
  {
   "cell_type": "code",
   "execution_count": 74,
   "metadata": {},
   "outputs": [
    {
     "name": "stdout",
     "output_type": "stream",
     "text": [
      "     7e+00 | 0.027778 | 0.833333  |\n"
     ]
    }
   ],
   "source": [
    "qm={}\n",
    "qm[N]={}\n",
    "\n",
    "q_measure, q_weight, L, triang_weight_vector, weight_difference_vector = quality_measure.q_measure(G_pre_extracted,\n",
    "                                                           G_bar, \n",
    "                                                           partition_dict, \n",
    "                                                           'l1', min_=.5)\n",
    "qm[N]['qw'] = q_weight\n",
    "qm[N]['L'] = L\n",
    "    \n",
    "print(\"%10.0e\"%N,'|',\"%f\"% qm[N]['qw'],'|',\n",
    "          \"%f \"% qm[N]['L'],'|')"
   ]
  },
  {
   "cell_type": "code",
   "execution_count": null,
   "metadata": {},
   "outputs": [],
   "source": []
  },
  {
   "cell_type": "code",
   "execution_count": 75,
   "metadata": {},
   "outputs": [
    {
     "data": {
      "text/plain": [
       "[0,\n",
       " 0,\n",
       " 0,\n",
       " 1.0,\n",
       " 0,\n",
       " 0,\n",
       " 0,\n",
       " 0,\n",
       " 0,\n",
       " 1.0,\n",
       " 0,\n",
       " 0,\n",
       " 0,\n",
       " 0,\n",
       " 0,\n",
       " 1.0,\n",
       " 0,\n",
       " 0,\n",
       " 0,\n",
       " 0,\n",
       " 0,\n",
       " 1.0,\n",
       " 0,\n",
       " 0,\n",
       " 0,\n",
       " 0,\n",
       " 0,\n",
       " 1.0,\n",
       " 0,\n",
       " 0,\n",
       " 0,\n",
       " 0,\n",
       " 0,\n",
       " 1.0,\n",
       " 0,\n",
       " 0]"
      ]
     },
     "execution_count": 75,
     "metadata": {},
     "output_type": "execute_result"
    }
   ],
   "source": [
    "triang_weight_vector"
   ]
  },
  {
   "cell_type": "code",
   "execution_count": 76,
   "metadata": {},
   "outputs": [
    {
     "data": {
      "text/plain": [
       "[0.0,\n",
       " 0.0,\n",
       " 0.0,\n",
       " 0.25,\n",
       " 0.0,\n",
       " 0.0,\n",
       " 0.0,\n",
       " 0.0,\n",
       " 0.0,\n",
       " 0.25,\n",
       " 0.0,\n",
       " 0.0,\n",
       " 0.0,\n",
       " 0.0,\n",
       " 0.0,\n",
       " 0.0,\n",
       " 0.0,\n",
       " 0.0,\n",
       " 0.0,\n",
       " 0.0,\n",
       " 0.0,\n",
       " 0.0,\n",
       " 0.0,\n",
       " 0.0,\n",
       " 0.0,\n",
       " 0.0,\n",
       " 0.0,\n",
       " 0.25,\n",
       " 0.0,\n",
       " 0.0,\n",
       " 0.0,\n",
       " 0.0,\n",
       " 0.0,\n",
       " 0.25,\n",
       " 0.0,\n",
       " 0.0]"
      ]
     },
     "execution_count": 76,
     "metadata": {},
     "output_type": "execute_result"
    }
   ],
   "source": [
    "weight_difference_vector"
   ]
  },
  {
   "cell_type": "code",
   "execution_count": 64,
   "metadata": {},
   "outputs": [
    {
     "data": {
      "text/plain": [
       "EdgeDataView([(3, 9, {'weight': 1.5}), (9, 15, {'weight': 1.0}), (15, 21, {'weight': 1.0}), (21, 27, {'weight': 1.0}), (27, 33, {'weight': 1.5})])"
      ]
     },
     "execution_count": 64,
     "metadata": {},
     "output_type": "execute_result"
    }
   ],
   "source": [
    "G_pre_extracted.edges(data=True)"
   ]
  },
  {
   "cell_type": "code",
   "execution_count": 77,
   "metadata": {},
   "outputs": [
    {
     "data": {
      "text/plain": [
       "0.027777777777777776"
      ]
     },
     "execution_count": 77,
     "metadata": {},
     "output_type": "execute_result"
    }
   ],
   "source": [
    "1/len(partition_dict.values())"
   ]
  },
  {
   "cell_type": "markdown",
   "metadata": {},
   "source": [
    "#### the length should converge to 1 and the weighted part converges to zero because of the size of the partition"
   ]
  },
  {
   "cell_type": "markdown",
   "metadata": {},
   "source": [
    "#### add shifted graph as second test"
   ]
  },
  {
   "cell_type": "code",
   "execution_count": 38,
   "metadata": {},
   "outputs": [
    {
     "name": "stdout",
     "output_type": "stream",
     "text": [
      "\n",
      "      N    | Pre-extracted Graph    |\n",
      "           |       qw   |  L        |\n",
      " 3.000e+00 | 0.000000 | 0.500000  |\n",
      " 4.000e+00 | 0.111111 | 0.666667  |\n",
      " 5.000e+00 | 0.062500 | 0.750000  |\n",
      " 6.000e+00 | 0.040000 | 0.800000  |\n",
      " 7.000e+00 | 0.027778 | 0.833333  |\n",
      " 8.000e+00 | 0.020408 | 0.857143  |\n",
      " 9.000e+00 | 0.015625 | 0.875000  |\n"
     ]
    }
   ],
   "source": [
    "qm={}\n",
    "print('\\n      N    | Pre-extracted Graph    |')\n",
    "print('           |       qw   |  L        |')\n",
    "for N in range(3,10):\n",
    "    \n",
    "    qm[N]={}\n",
    "\n",
    "    \n",
    "    partition_dict, dict_seq, node2box_index = quality_measure.partition_set(N)\n",
    "    _, G_triang = quality_measure.partition(N)\n",
    "    \n",
    "    colors = horizontal_line(N)\n",
    "    \n",
    "    G_bar = pre_extraction.weighted_partition2bar_graph(partition_dict, colors)\n",
    "    \n",
    "    G_pre_extracted = G_bar.copy()\n",
    "    #print(G_bar.nodes(data=True))\n",
    "    # filtering\n",
    "    edges_ = list(G_pre_extracted.edges())\n",
    "    G_pre_extracted.remove_edges_from(edges_)\n",
    "    # print('getting graph')\n",
    "\n",
    "\n",
    "    graph_type = \"1\"\n",
    "\n",
    "\n",
    "    G_pre_extracted = pre_extraction.node_edge_filter(G_pre_extracted, \n",
    "                                                      .5,\n",
    "                                                      graph_type, \n",
    "                                                      dict_seq, \n",
    "                                                      'ER',\n",
    "                                                      'image',\n",
    "                                                      node2box_index)  # 12\n",
    "    \n",
    "    \n",
    "    q_measure, q_weight, L, triang_weight_vector, weight_difference_vector = quality_measure.q_measure(G_pre_extracted,\n",
    "                                                           G_bar, \n",
    "                                                           partition_dict, \n",
    "                                                           'l1', min_=.5)\n",
    "    qm[N]['qw'] = q_weight\n",
    "    qm[N]['L'] = L\n",
    "\n",
    "    print(\"%10.3e\"%N,'|',\"%f\"% qm[N]['qw'],'|',\n",
    "              \"%f \"% qm[N]['L'],'|')\n",
    "\n"
   ]
  },
  {
   "cell_type": "code",
   "execution_count": 39,
   "metadata": {},
   "outputs": [
    {
     "data": {
      "text/plain": [
       "{3: {'qw': 0.0, 'L': 0.5},\n",
       " 4: {'qw': 0.1111111111111111, 'L': 0.6666666666666666},\n",
       " 5: {'qw': 0.0625, 'L': 0.75},\n",
       " 6: {'qw': 0.04, 'L': 0.8},\n",
       " 7: {'qw': 0.027777777777777776, 'L': 0.8333333333333334},\n",
       " 8: {'qw': 0.02040816326530612, 'L': 0.8571428571428572},\n",
       " 9: {'qw': 0.015625, 'L': 0.875}}"
      ]
     },
     "execution_count": 39,
     "metadata": {},
     "output_type": "execute_result"
    }
   ],
   "source": [
    "qm"
   ]
  },
  {
   "cell_type": "code",
   "execution_count": 41,
   "metadata": {},
   "outputs": [],
   "source": [
    "qm_weights = np.array([qm[N]['qw'] for N in qm.keys()])\n",
    "qm_L = np.array([qm[N]['L'] for N in qm.keys()])"
   ]
  },
  {
   "cell_type": "code",
   "execution_count": null,
   "metadata": {},
   "outputs": [],
   "source": []
  }
 ],
 "metadata": {
  "kernelspec": {
   "display_name": "Python 3",
   "language": "python",
   "name": "python3"
  },
  "language_info": {
   "codemirror_mode": {
    "name": "ipython",
    "version": 3
   },
   "file_extension": ".py",
   "mimetype": "text/x-python",
   "name": "python",
   "nbconvert_exporter": "python",
   "pygments_lexer": "ipython3",
   "version": "3.7.3"
  }
 },
 "nbformat": 4,
 "nbformat_minor": 2
}
